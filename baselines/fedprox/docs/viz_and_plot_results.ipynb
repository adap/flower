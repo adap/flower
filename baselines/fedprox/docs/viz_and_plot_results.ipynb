{
 "cells": [
  {
   "cell_type": "code",
   "execution_count": null,
   "id": "5e0cf2a9-b782-48de-ac45-128726a26e64",
   "metadata": {},
   "outputs": [],
   "source": [
    "import pickle\n",
    "import yaml\n",
    "from pathlib import Path\n",
    "\n",
    "import pandas as pd\n",
    "import numpy as np\n",
    "import matplotlib.pyplot as plt\n",
    "import os\n",
    "\n",
    "SAVE_PATH = Path(os.path.abspath(\"\")).parent / \"_static\"\n",
    "RESULTS_PATH = Path(os.path.abspath(\"\")).parent / \"results\""
   ]
  },
  {
   "cell_type": "code",
   "execution_count": null,
   "id": "7ea3e149-ce6f-4ba0-aa41-e0501a04efe3",
   "metadata": {},
   "outputs": [],
   "source": [
    "def saveFig(name, fig):\n",
    "    fig.savefig(\n",
    "        name,\n",
    "        dpi=None,\n",
    "        facecolor=fig.get_facecolor(),\n",
    "        edgecolor=\"none\",\n",
    "        orientation=\"portrait\",\n",
    "        format=\"png\",\n",
    "        transparent=False,\n",
    "        bbox_inches=\"tight\",\n",
    "        pad_inches=0.2,\n",
    "        metadata=None,\n",
    "    )"
   ]
  },
  {
   "cell_type": "code",
   "execution_count": null,
   "id": "4b010856-0d99-4d81-8fb0-7a927f10eeaf",
   "metadata": {},
   "outputs": [],
   "source": [
    "# Update the path belows to the multirun directories containing the results for FedProx and FedAvg\n",
    "path_fedprox_resutls = RESULTS_PATH / \"FedProx\"\n",
    "path_fedavg_results = RESULTS_PATH / \"FedAvg\""
   ]
  },
  {
   "cell_type": "code",
   "execution_count": null,
   "id": "2e3e165c-1ce6-4efa-a4e1-1372586e436e",
   "metadata": {},
   "outputs": [],
   "source": [
    "# load all results\n",
    "def read_pickle_and_config(path_to_pickle):\n",
    "    with open(path_to_pickle, \"rb\") as handle:\n",
    "        data = pickle.load(handle)\n",
    "\n",
    "    config_path = Path(path_to_pickle).parent / \"config.json\"\n",
    "    with open(config_path, \"r\") as file:\n",
    "        config = yaml.safe_load(file)\n",
    "\n",
    "    return data, config\n",
    "\n",
    "\n",
    "# loads results.pkl and config of each run\n",
    "def process_data(path_fedprox_results):\n",
    "    res_list = []\n",
    "    for results in list(Path(path_fedprox_results).glob(\"**/*.pkl\")):\n",
    "        data, config = read_pickle_and_config(results)\n",
    "        data_cen = data[\"history\"].metrics_centralized\n",
    "        loss_cen = data[\"history\"].losses_centralized\n",
    "        stragglers = config[\"algorithm\"][\"stragglers_fraction\"]\n",
    "        res_list.append(\n",
    "            {\n",
    "                \"stragglers\": stragglers,\n",
    "                \"mu\": config[\"algorithm\"][\"mu\"],\n",
    "                \"accuracy\": np.array([d[1] for d in data_cen[\"accuracy\"]]),\n",
    "                \"loss\": np.array([d[1] for d in loss_cen]),\n",
    "            }\n",
    "        )\n",
    "\n",
    "    # to DataFrame\n",
    "    df = pd.DataFrame.from_dict(res_list)\n",
    "    # Grouping the DataFrame by 'mu' and 'stragglers' columns\n",
    "    grouped_df = df.groupby([\"mu\", \"stragglers\"])\n",
    "\n",
    "    # Calculating the mean and standard deviation of 'accuracy' and 'loss' columns\n",
    "    mean_df = grouped_df[[\"accuracy\", \"loss\"]].mean()\n",
    "    return mean_df.reset_index()"
   ]
  },
  {
   "cell_type": "code",
   "execution_count": null,
   "id": "77b70c73",
   "metadata": {},
   "outputs": [],
   "source": [
    "fedprox_df = process_data(path_fedprox_resutls)\n",
    "fedavg_df = process_data(path_fedavg_results)"
   ]
  },
  {
   "cell_type": "code",
   "execution_count": null,
   "id": "190b0583",
   "metadata": {},
   "outputs": [],
   "source": [
    "# let's add a new column to each dataframe that we'll use as label\n",
    "fedprox_df[\"strategy\"] = \"FedProx\"\n",
    "fedavg_df[\"strategy\"] = \"FedAvg\"\n",
    "\n",
    "# Now let's fuse both datframes\n",
    "df = pd.concat([fedavg_df, fedprox_df])\n",
    "df = df.reset_index()\n",
    "df"
   ]
  },
  {
   "cell_type": "code",
   "execution_count": null,
   "id": "e1a678de",
   "metadata": {},
   "outputs": [],
   "source": [
    "def viz(dataframe):\n",
    "    fig, axs = plt.subplots(figsize=(18, 12), nrows=2, ncols=3)\n",
    "    for row_idx, col_label in enumerate([\"loss\", \"accuracy\"]):\n",
    "        for col_idx, strag_ratio in enumerate([0.0, 0.5, 0.9]):\n",
    "            ax = axs[row_idx, col_idx]\n",
    "            exp_data = dataframe.loc[(dataframe[\"stragglers\"] == strag_ratio)]\n",
    "            for _, exp in exp_data.iterrows():\n",
    "                y = exp[col_label]\n",
    "                rounds_array = np.array(range(len(y)))\n",
    "                label = exp[\"strategy\"]\n",
    "                label = f\"{label}($\\mu$={exp['mu']})\" if label == \"FedProx\" else label\n",
    "                ax.plot(rounds_array, y, label=label, linewidth=2.0)\n",
    "\n",
    "            ax.grid()\n",
    "            ax.legend(fontsize=14)\n",
    "            ax.set_xlabel(\"Round\", fontsize=14)\n",
    "            ax.set_ylabel(\"Loss\" if col_idx == 0 else \"Accuracy\", fontsize=14)\n",
    "\n",
    "            ax.tick_params(axis=\"both\", which=\"major\", labelsize=14)\n",
    "            ax.tick_params(axis=\"both\", which=\"minor\", labelsize=14)\n",
    "\n",
    "            if row_idx == 0:\n",
    "                ax.set_title(f\"{int(strag_ratio*100)}% Stragglers\", fontsize=14)\n",
    "    return fig"
   ]
  },
  {
   "cell_type": "code",
   "execution_count": null,
   "id": "faf82ba1",
   "metadata": {},
   "outputs": [],
   "source": [
    "f = viz(df)"
   ]
  },
  {
   "cell_type": "code",
   "execution_count": null,
   "id": "92460065",
   "metadata": {},
   "outputs": [],
   "source": [
    "saveFig(SAVE_PATH/\"FedProx_mnist.png\", f)"
   ]
  }
 ],
 "metadata": {
  "kernelspec": {
   "display_name": "fedprox",
   "language": "python",
   "name": "python3"
  },
  "language_info": {
   "codemirror_mode": {
    "name": "ipython",
    "version": 3
   },
   "file_extension": ".py",
   "mimetype": "text/x-python",
   "name": "python",
   "nbconvert_exporter": "python",
   "pygments_lexer": "ipython3",
   "version": "3.10.14"
  }
 },
 "nbformat": 4,
 "nbformat_minor": 5
}
