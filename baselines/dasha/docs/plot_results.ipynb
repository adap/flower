{
 "cells": [
  {
   "cell_type": "code",
   "execution_count": null,
   "id": "64c8705f",
   "metadata": {},
   "outputs": [],
   "source": [
    "import os\n",
    "import pickle\n",
    "from pathlib import Path\n",
    "import yaml\n",
    "\n",
    "import matplotlib.pyplot as plt\n",
    "import numpy as np\n",
    "import scipy.ndimage\n",
    "\n",
    "from dasha.strategy import _CompressionAggregator\n",
    "\n",
    "RESULTS = Path(os.path.abspath(\"\")).parent / \"results\"\n",
    "OUTPUT_PATH = Path(os.path.abspath(\"\")).parent / \"_static\"\n",
    "OUTPUT_PATH.mkdir(exist_ok=True, parents=True)"
   ]
  },
  {
   "cell_type": "code",
   "execution_count": null,
   "id": "27bb5a60",
   "metadata": {},
   "outputs": [],
   "source": [
    "def moving_average(x, window):\n",
    "    \"\"\"Smooth plot using a window.\"\"\"\n",
    "    window = np.ones((window,)) / window\n",
    "    return scipy.ndimage.convolve1d(x, window)\n",
    "\n",
    "\n",
    "def plot(input_paths:list, metric_name:str, output_path: str, smooth_plot:int = 0) -> None:\n",
    "    \"\"\"Plot experiments.\"\"\"\n",
    "    fig, axs = plt.subplots(nrows=1, ncols=1, sharex=\"row\")\n",
    "    paths = []\n",
    "    for path in input_paths:\n",
    "        if not os.path.exists(os.path.join(RESULTS, path, \"history.pkl\")):\n",
    "            local_folders = os.listdir(path)\n",
    "            for folder in local_folders:\n",
    "                if os.path.isdir(os.path.join(path, folder)):\n",
    "                    paths.append(os.path.join(path, folder))\n",
    "        else:\n",
    "            paths.append(path)\n",
    "    for save_path in paths:\n",
    "        with open(os.path.join(RESULTS, save_path, \"history.pkl\"), \"rb\") as file:\n",
    "            history = pickle.load(file)[\"history\"]\n",
    "        with open(os.path.join(RESULTS, save_path, \"config.json\"), \"r\") as file:\n",
    "            cfg = yaml.safe_load(file)\n",
    "        metric = history.metrics_distributed[_CompressionAggregator.RECEIVED_BYTES]\n",
    "        received_bytes_rounds, received_bytes = list(zip(*metric))\n",
    "        if metric_name == \"loss\":\n",
    "            rounds, losses = list(zip(*history.losses_distributed))\n",
    "            axs.set_yscale(\"log\")\n",
    "        elif metric_name == _CompressionAggregator.SQUARED_GRADIENT_NORM:\n",
    "            metrics = history.metrics_distributed[\n",
    "                _CompressionAggregator.SQUARED_GRADIENT_NORM\n",
    "            ]\n",
    "            rounds, losses = list(zip(*metrics))\n",
    "            axs.set_yscale(\"log\")\n",
    "        elif metric_name == _CompressionAggregator.ACCURACY:\n",
    "            metrics = history.metrics_distributed[_CompressionAggregator.ACCURACY]\n",
    "            rounds, losses = list(zip(*metrics))\n",
    "        np.testing.assert_array_equal(received_bytes_rounds, rounds)\n",
    "        target = cfg[\"method\"][\"name\"]\n",
    "        client = target.split(\".\")[-1]\n",
    "        losses = np.asarray(losses)\n",
    "        if smooth_plot:\n",
    "            losses = moving_average(losses, smooth_plot)\n",
    "        step_size = cfg[\"method\"][\"step-size\"]\n",
    "        axs.plot(\n",
    "            np.asarray(received_bytes),\n",
    "            losses,\n",
    "            label=f\"{client}; Step size: {step_size}\",\n",
    "        )\n",
    "        axs.set_ylabel(metric_name)\n",
    "        axs.set_xlabel(\"#bits / client\")\n",
    "        axs.grid(True)\n",
    "        axs.legend(loc=\"upper left\")\n",
    "        fig.savefig(output_path)"
   ]
  },
  {
   "cell_type": "markdown",
   "id": "e5c8b95c",
   "metadata": {},
   "source": [
    "# Small-Scale Experiments"
   ]
  },
  {
   "cell_type": "code",
   "execution_count": null,
   "id": "498c06e6",
   "metadata": {},
   "outputs": [],
   "source": [
    "experiments_list = [\n",
    "    \"mushrooms/dasha/0.25/\",\n",
    "    \"mushrooms/dasha/0.5/\",\n",
    "    \"mushrooms/dasha/1.0/\",\n",
    "    \"mushrooms/marina/0.25/\",\n",
    "    \"mushrooms/marina/0.5/\",\n",
    "    \"mushrooms/marina/1.0/\",\n",
    "]\n",
    "plot(experiments_list, metric_name=\"squared_gradient_norm\", output_path= OUTPUT_PATH / \"plot.png\")"
   ]
  },
  {
   "cell_type": "markdown",
   "id": "9cda6363",
   "metadata": {},
   "source": [
    "# Large-Scale Experiment"
   ]
  },
  {
   "cell_type": "code",
   "execution_count": null,
   "id": "24b87439",
   "metadata": {},
   "outputs": [],
   "source": [
    "experiments_list = [\n",
    "    \"cifar10/stochastic_dasha/0.01/\",\n",
    "    \"cifar10/stochastic_marina/0.01/\",\n",
    "]\n",
    "plot(experiments_list, metric_name=\"squared_gradient_norm\", output_path= OUTPUT_PATH / \"plot_nn.png\", smooth_plot=100)"
   ]
  }
 ],
 "metadata": {
  "kernelspec": {
   "display_name": "dasha",
   "language": "python",
   "name": "python3"
  },
  "language_info": {
   "codemirror_mode": {
    "name": "ipython",
    "version": 3
   },
   "file_extension": ".py",
   "mimetype": "text/x-python",
   "name": "python",
   "nbconvert_exporter": "python",
   "pygments_lexer": "ipython3",
   "version": "3.11.11"
  }
 },
 "nbformat": 4,
 "nbformat_minor": 5
}
